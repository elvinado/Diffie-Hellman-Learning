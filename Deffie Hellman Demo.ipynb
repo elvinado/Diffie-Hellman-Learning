{
 "cells": [
  {
   "cell_type": "code",
   "execution_count": 24,
   "metadata": {
    "code_folding": [],
    "slideshow": {
     "slide_type": "-"
    }
   },
   "outputs": [],
   "source": [
    "# Keys in public Domain\n",
    "public_generator = 5\n",
    "prime_no = 7\n",
    "# Keys in A's Domain\n",
    "Private_Key_A = 2\n",
    "# Keys in B's Domain\n",
    "Private_Key_B = 19\n",
    "\n",
    "# Exchange keys in public Domain\n",
    "#public_A = g**A mod p\n",
    "public_A = public_generator**Private_Key_A % prime_no\n",
    "#Public_B = g**B % p\n",
    "public_B = public_generator**Private_Key_B % prime_no"
   ]
  },
  {
   "cell_type": "code",
   "execution_count": 25,
   "metadata": {},
   "outputs": [
    {
     "name": "stdout",
     "output_type": "stream",
     "text": [
      "Key to be shared with B: 4 \n",
      "Key to be shared with A: 5\n"
     ]
    }
   ],
   "source": [
    "print(\n",
    "    f'Key to be shared with B: {public_A} \\nKey to be shared with A: {public_B}'\n",
    ")"
   ]
  },
  {
   "cell_type": "code",
   "execution_count": 27,
   "metadata": {},
   "outputs": [
    {
     "name": "stdout",
     "output_type": "stream",
     "text": [
      "4 and 4 is equal : True\n"
     ]
    }
   ],
   "source": [
    "shared_B = public_A**Private_Key_B % prime_no\n",
    "shared_A = public_B**Private_Key_A % prime_no\n",
    "print(f'{shared_A} and {shared_B} is equal : {shared_B == shared_A}')"
   ]
  },
  {
   "cell_type": "code",
   "execution_count": 28,
   "metadata": {},
   "outputs": [
    {
     "data": {
      "text/plain": [
       "4"
      ]
     },
     "execution_count": 28,
     "metadata": {},
     "output_type": "execute_result"
    }
   ],
   "source": [
    "# this works because\n",
    "public_generator**(Private_Key_A * Private_Key_B) % prime_no"
   ]
  }
 ],
 "metadata": {
  "kernelspec": {
   "display_name": "Python 3",
   "language": "python",
   "name": "python3"
  },
  "language_info": {
   "codemirror_mode": {
    "name": "ipython",
    "version": 3
   },
   "file_extension": ".py",
   "mimetype": "text/x-python",
   "name": "python",
   "nbconvert_exporter": "python",
   "pygments_lexer": "ipython3",
   "version": "3.7.2"
  }
 },
 "nbformat": 4,
 "nbformat_minor": 2
}
